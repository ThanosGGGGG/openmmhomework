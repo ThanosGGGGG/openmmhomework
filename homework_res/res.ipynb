{
 "cells": [
  {
   "cell_type": "code",
   "execution_count": 1,
   "metadata": {},
   "outputs": [],
   "source": [
    "import os\n",
    "os.chdir('mmpose')"
   ]
  },
  {
   "attachments": {},
   "cell_type": "markdown",
   "metadata": {},
   "source": [
    "image infer"
   ]
  },
  {
   "cell_type": "code",
   "execution_count": 2,
   "metadata": {},
   "outputs": [
    {
     "name": "stdout",
     "output_type": "stream",
     "text": [
      "python: can't open file 'demo/topdown_demo_with_mmdet.py': [Errno 2] No such file or directory\n"
     ]
    }
   ],
   "source": [
    "# RTMDet --> RTMPose\n",
    "!python demo/topdown_demo_with_mmdet.py \\\n",
    "        /workspace/MMPose_Tutorials/2023/0519/mmdetection/data/rtmdet_tiny_triangle.py \\\n",
    "        /workspace/MMPose_Tutorials/2023/0519/mmdetection/work_dirs/rtmdet_tiny_triangle/best_coco_bbox_mAP_epoch_200.pth \\\n",
    "        data/rtmpose-s_triangle_8xb256-420e_coco-256x192.py \\\n",
    "        /workspace/MMPose_Tutorials/2023/0519/mmpose/work_dirs/rtmpose-s_triangle_8xb256-420e_coco-256x192/best_PCK_epoch_210.pth \\\n",
    "        --input data/test/myear.jpg \\\n",
    "        --output-root outputs/G2_RTMDet-RTMPose \\\n",
    "        --device cuda:0 \\\n",
    "        --bbox-thr 0.5 \\\n",
    "        --kpt-thr 0.5 \\\n",
    "        --nms-thr 0.3 \\\n",
    "        --radius 10 \\\n",
    "        --thickness 30 \\\n",
    "        --draw-bbox \\\n",
    "        --draw-heatmap \\\n",
    "        --show-kpt-idx"
   ]
  },
  {
   "attachments": {},
   "cell_type": "markdown",
   "metadata": {},
   "source": [
    "video infer"
   ]
  },
  {
   "cell_type": "code",
   "execution_count": null,
   "metadata": {},
   "outputs": [],
   "source": [
    "# RTMDet --> RTMPose\n",
    "!python demo/topdown_demo_with_mmdet.py \\\n",
    "        /workspace/MMPose_Tutorials/2023/0519/mmdetection/data/rtmdet_tiny_triangle.py \\\n",
    "        /workspace/MMPose_Tutorials/2023/0519/mmdetection/work_dirs/rtmdet_tiny_triangle/best_coco_bbox_mAP_epoch_200.pth \\\n",
    "        data/rtmpose-s_triangle_8xb256-420e_coco-256x192.py \\\n",
    "        /workspace/MMPose_Tutorials/2023/0519/mmpose/work_dirs/rtmpose-s_triangle_8xb256-420e_coco-256x192/best_PCK_epoch_210.pth \\\n",
    "        --input data/test/myear_video.mp4 \\\n",
    "        --output-root outputs/G2_Video \\\n",
    "        --device cuda:0 \\\n",
    "        --bbox-thr 0.5 \\\n",
    "        --kpt-thr 0.5 \\\n",
    "        --nms-thr 0.3 \\\n",
    "        --radius 10 \\\n",
    "        --thickness 30 \\\n",
    "        --draw-bbox \\\n",
    "        --draw-heatmap \\\n",
    "        --show-kpt-idx"
   ]
  },
  {
   "cell_type": "code",
   "execution_count": null,
   "metadata": {},
   "outputs": [],
   "source": []
  }
 ],
 "metadata": {
  "kernelspec": {
   "display_name": "base",
   "language": "python",
   "name": "python3"
  },
  "language_info": {
   "codemirror_mode": {
    "name": "ipython",
    "version": 3
   },
   "file_extension": ".py",
   "mimetype": "text/x-python",
   "name": "python",
   "nbconvert_exporter": "python",
   "pygments_lexer": "ipython3",
   "version": "3.8.12"
  },
  "orig_nbformat": 4,
  "vscode": {
   "interpreter": {
    "hash": "d4d1e4263499bec80672ea0156c357c1ee493ec2b1c70f0acce89fc37c4a6abe"
   }
  }
 },
 "nbformat": 4,
 "nbformat_minor": 2
}
