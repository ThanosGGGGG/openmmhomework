{
 "cells": [
  {
   "cell_type": "code",
   "execution_count": 1,
   "id": "e331f1d7-e8d7-4471-b7a0-ab27b9821d90",
   "metadata": {},
   "outputs": [
    {
     "data": {
      "text/plain": [
       "'/home/featurize'"
      ]
     },
     "execution_count": 1,
     "metadata": {},
     "output_type": "execute_result"
    }
   ],
   "source": [
    "pwd"
   ]
  },
  {
   "cell_type": "code",
   "execution_count": 2,
   "id": "b3c827cf-87c9-47a7-b460-31774dde4955",
   "metadata": {},
   "outputs": [
    {
     "name": "stdout",
     "output_type": "stream",
     "text": [
      "Package                      Version\n",
      "---------------------------- ------------\n",
      "absl-py                      1.4.0\n",
      "aiohttp                      3.7.4\n",
      "aliyun-python-sdk-core       2.13.36\n",
      "aliyun-python-sdk-kms        2.16.0\n",
      "anyio                        3.6.2\n",
      "argon2-cffi                  21.3.0\n",
      "argon2-cffi-bindings         21.2.0\n",
      "asttokens                    2.2.1\n",
      "astunparse                   1.6.3\n",
      "async-timeout                3.0.1\n",
      "attrs                        22.2.0\n",
      "Babel                        2.12.1\n",
      "backcall                     0.2.0\n",
      "beautifulsoup4               4.11.2\n",
      "bleach                       6.0.0\n",
      "brotlipy                     0.7.0\n",
      "cachetools                   5.3.0\n",
      "certifi                      2022.12.7\n",
      "cffi                         1.15.0\n",
      "chardet                      3.0.4\n",
      "charset-normalizer           3.1.0\n",
      "click                        7.1.2\n",
      "cmake                        3.25.0\n",
      "colorama                     0.4.6\n",
      "comm                         0.1.2\n",
      "conda                        23.1.0\n",
      "conda-package-handling       2.0.2\n",
      "conda_package_streaming      0.7.0\n",
      "contourpy                    1.0.7\n",
      "crcmod                       1.7\n",
      "cryptography                 38.0.4\n",
      "cycler                       0.11.0\n",
      "dacite                       1.8.0\n",
      "debugpy                      1.6.6\n",
      "decorator                    5.1.1\n",
      "defusedxml                   0.7.1\n",
      "ecdsa                        0.18.0\n",
      "executing                    1.2.0\n",
      "fastjsonschema               2.16.3\n",
      "featurize                    0.0.24\n",
      "filelock                     3.9.0\n",
      "flatbuffers                  23.3.3\n",
      "fonttools                    4.39.2\n",
      "gast                         0.4.0\n",
      "google-auth                  2.16.2\n",
      "google-auth-oauthlib         0.4.6\n",
      "google-pasta                 0.2.0\n",
      "grpcio                       1.51.3\n",
      "h5py                         3.8.0\n",
      "huggingface-hub              0.13.2\n",
      "idna                         2.10\n",
      "importlib-metadata           6.0.0\n",
      "importlib-resources          5.12.0\n",
      "ipykernel                    6.21.3\n",
      "ipython                      8.11.0\n",
      "ipython-genutils             0.2.0\n",
      "ipywidgets                   8.0.4\n",
      "jedi                         0.18.2\n",
      "Jinja2                       3.1.2\n",
      "jmespath                     0.10.0\n",
      "joblib                       1.2.0\n",
      "json5                        0.9.11\n",
      "jsonschema                   4.17.3\n",
      "jupyter_client               8.0.3\n",
      "jupyter_core                 5.3.0\n",
      "jupyter-server               1.23.6\n",
      "jupyterlab                   3.2.9\n",
      "jupyterlab-pygments          0.2.2\n",
      "jupyterlab_server            2.20.0\n",
      "jupyterlab-widgets           3.0.5\n",
      "keras                        2.11.0\n",
      "kiwisolver                   1.4.4\n",
      "libclang                     15.0.6.1\n",
      "lit                          15.0.7\n",
      "Markdown                     3.4.1\n",
      "MarkupSafe                   2.1.2\n",
      "matplotlib                   3.7.1\n",
      "matplotlib-inline            0.1.6\n",
      "mistune                      2.0.5\n",
      "mpmath                       1.2.1\n",
      "multidict                    6.0.4\n",
      "nbclassic                    0.2.8\n",
      "nbclient                     0.7.2\n",
      "nbconvert                    7.2.10\n",
      "nbformat                     5.7.3\n",
      "nest-asyncio                 1.5.6\n",
      "networkx                     3.0\n",
      "notebook                     6.4.12\n",
      "numpy                        1.24.1\n",
      "oauthlib                     3.2.2\n",
      "opt-einsum                   3.3.0\n",
      "oss2                         2.17.0\n",
      "packaging                    23.0\n",
      "pandas                       1.5.3\n",
      "pandocfilters                1.5.0\n",
      "parso                        0.8.3\n",
      "pexpect                      4.8.0\n",
      "pickleshare                  0.7.5\n",
      "Pillow                       9.3.0\n",
      "pip                          23.0.1\n",
      "pkgutil_resolve_name         1.3.10\n",
      "platformdirs                 3.1.1\n",
      "plotly                       5.13.1\n",
      "pluggy                       1.0.0\n",
      "prometheus-client            0.16.0\n",
      "prompt-toolkit               3.0.38\n",
      "protobuf                     3.19.6\n",
      "psutil                       5.9.4\n",
      "ptyprocess                   0.7.0\n",
      "pure-eval                    0.2.2\n",
      "pyasn1                       0.4.8\n",
      "pyasn1-modules               0.2.8\n",
      "pycosat                      0.6.3\n",
      "pycparser                    2.20\n",
      "pycryptodome                 3.17\n",
      "Pygments                     2.14.0\n",
      "pyOpenSSL                    23.0.0\n",
      "pyparsing                    3.0.9\n",
      "pyrsistent                   0.19.3\n",
      "PySocks                      1.7.1\n",
      "python-dateutil              2.8.2\n",
      "pytz                         2022.7.1\n",
      "PyYAML                       6.0\n",
      "pyzmq                        25.0.1\n",
      "regex                        2022.10.31\n",
      "requests                     2.24.0\n",
      "requests-oauthlib            1.3.1\n",
      "rsa                          4.9\n",
      "ruamel.yaml                  0.16.12\n",
      "ruamel.yaml.clib             0.2.6\n",
      "scikit-learn                 1.2.2\n",
      "scipy                        1.10.1\n",
      "Send2Trash                   1.8.0\n",
      "setuptools                   65.6.3\n",
      "simple-uploader              0.0.15\n",
      "six                          1.16.0\n",
      "sniffio                      1.3.0\n",
      "soupsieve                    2.4\n",
      "sshpubkeys                   3.3.1\n",
      "stack-data                   0.6.2\n",
      "sympy                        1.11.1\n",
      "tabulate                     0.8.7\n",
      "tenacity                     8.2.2\n",
      "tensorboard                  2.11.2\n",
      "tensorboard-data-server      0.6.1\n",
      "tensorboard-plugin-wit       1.8.1\n",
      "tensorflow                   2.11.0\n",
      "tensorflow-estimator         2.11.0\n",
      "tensorflow-io-gcs-filesystem 0.31.0\n",
      "termcolor                    2.2.0\n",
      "terminado                    0.17.1\n",
      "threadpoolctl                3.1.0\n",
      "timm                         0.6.12\n",
      "tinycss2                     1.2.1\n",
      "tokenizers                   0.13.2\n",
      "toolz                        0.12.0\n",
      "torch                        2.0.0+cu118\n",
      "torchaudio                   2.0.1+cu118\n",
      "torchvision                  0.15.1+cu118\n",
      "tornado                      6.2\n",
      "tqdm                         4.61.2\n",
      "traitlets                    5.9.0\n",
      "transformers                 4.27.1\n",
      "triton                       2.0.0\n",
      "typing_extensions            4.5.0\n",
      "urllib3                      1.25.11\n",
      "wcwidth                      0.2.5\n",
      "webencodings                 0.5.1\n",
      "websocket-client             1.2.1\n",
      "Werkzeug                     2.2.3\n",
      "wheel                        0.36.2\n",
      "widgetsnbextension           4.0.5\n",
      "workspace                    0.1.0\n",
      "wrapt                        1.15.0\n",
      "yarl                         1.8.2\n",
      "zipp                         3.15.0\n",
      "zstandard                    0.15.2\n"
     ]
    }
   ],
   "source": [
    "!pip list"
   ]
  },
  {
   "cell_type": "code",
   "execution_count": 4,
   "id": "2bafb471-067a-4a44-a7cf-41f1d3d8822d",
   "metadata": {},
   "outputs": [
    {
     "name": "stdout",
     "output_type": "stream",
     "text": [
      "# conda environments:\n",
      "#\n",
      "base                     /environment/miniconda3\n",
      "\n"
     ]
    }
   ],
   "source": [
    "!conda env list"
   ]
  },
  {
   "cell_type": "code",
   "execution_count": 5,
   "id": "dbbef747-71d2-4977-bc36-e0538c38f700",
   "metadata": {},
   "outputs": [
    {
     "name": "stdout",
     "output_type": "stream",
     "text": [
      "Looking in indexes: https://pypi.tuna.tsinghua.edu.cn/simple\n",
      "Collecting openmim\n",
      "  Downloading https://pypi.tuna.tsinghua.edu.cn/packages/b9/19/f7436e610163f65ff83de5a768180e73765e54bdaee5f5f37983aa3171b9/openmim-0.3.7-py2.py3-none-any.whl (51 kB)\n",
      "\u001b[2K     \u001b[90m━━━━━━━━━━━━━━━━━━━━━━━━━━━━━━━━━━━━━━━\u001b[0m \u001b[32m51.3/51.3 kB\u001b[0m \u001b[31m111.6 MB/s\u001b[0m eta \u001b[36m0:00:00\u001b[0m\n",
      "\u001b[?25hRequirement already satisfied: Click in /environment/miniconda3/lib/python3.8/site-packages (from openmim) (7.1.2)\n",
      "Requirement already satisfied: requests in /environment/miniconda3/lib/python3.8/site-packages (from openmim) (2.24.0)\n",
      "Requirement already satisfied: pip>=19.3 in /environment/miniconda3/lib/python3.8/site-packages (from openmim) (23.0.1)\n",
      "Requirement already satisfied: tabulate in /environment/miniconda3/lib/python3.8/site-packages (from openmim) (0.8.7)\n",
      "Collecting model-index\n",
      "  Downloading https://pypi.tuna.tsinghua.edu.cn/packages/0f/a6/4d4cbbef704f186d143e2859296a610a355992e4eae71582bd598093b36a/model_index-0.1.11-py3-none-any.whl (34 kB)\n",
      "Requirement already satisfied: pandas in /environment/miniconda3/lib/python3.8/site-packages (from openmim) (1.5.3)\n",
      "Collecting rich\n",
      "  Downloading https://pypi.tuna.tsinghua.edu.cn/packages/fc/1e/482e5eec0b89b593e81d78f819a9412849814e22225842b598908e7ac560/rich-13.4.2-py3-none-any.whl (239 kB)\n",
      "\u001b[2K     \u001b[90m━━━━━━━━━━━━━━━━━━━━━━━━━━━━━━━━━━━━━\u001b[0m \u001b[32m239.4/239.4 kB\u001b[0m \u001b[31m198.6 MB/s\u001b[0m eta \u001b[36m0:00:00\u001b[0m\n",
      "\u001b[?25hRequirement already satisfied: colorama in /environment/miniconda3/lib/python3.8/site-packages (from openmim) (0.4.6)\n",
      "Requirement already satisfied: pyyaml in /environment/miniconda3/lib/python3.8/site-packages (from model-index->openmim) (6.0)\n",
      "Collecting ordered-set\n",
      "  Downloading https://pypi.tuna.tsinghua.edu.cn/packages/33/55/af02708f230eb77084a299d7b08175cff006dea4f2721074b92cdb0296c0/ordered_set-4.1.0-py3-none-any.whl (7.6 kB)\n",
      "Requirement already satisfied: markdown in /environment/miniconda3/lib/python3.8/site-packages (from model-index->openmim) (3.4.1)\n",
      "Requirement already satisfied: numpy>=1.20.3 in /environment/miniconda3/lib/python3.8/site-packages (from pandas->openmim) (1.24.1)\n",
      "Requirement already satisfied: python-dateutil>=2.8.1 in /environment/miniconda3/lib/python3.8/site-packages (from pandas->openmim) (2.8.2)\n",
      "Requirement already satisfied: pytz>=2020.1 in /environment/miniconda3/lib/python3.8/site-packages (from pandas->openmim) (2022.7.1)\n",
      "Requirement already satisfied: certifi>=2017.4.17 in /environment/miniconda3/lib/python3.8/site-packages (from requests->openmim) (2022.12.7)\n",
      "Requirement already satisfied: chardet<4,>=3.0.2 in /environment/miniconda3/lib/python3.8/site-packages (from requests->openmim) (3.0.4)\n",
      "Requirement already satisfied: urllib3!=1.25.0,!=1.25.1,<1.26,>=1.21.1 in /environment/miniconda3/lib/python3.8/site-packages (from requests->openmim) (1.25.11)\n",
      "Requirement already satisfied: idna<3,>=2.5 in /environment/miniconda3/lib/python3.8/site-packages (from requests->openmim) (2.10)\n",
      "Requirement already satisfied: typing-extensions<5.0,>=4.0.0 in /environment/miniconda3/lib/python3.8/site-packages (from rich->openmim) (4.5.0)\n",
      "Collecting markdown-it-py>=2.2.0\n",
      "  Downloading https://pypi.tuna.tsinghua.edu.cn/packages/42/d7/1ec15b46af6af88f19b8e5ffea08fa375d433c998b8a7639e76935c14f1f/markdown_it_py-3.0.0-py3-none-any.whl (87 kB)\n",
      "\u001b[2K     \u001b[90m━━━━━━━━━━━━━━━━━━━━━━━━━━━━━━━━━━━━━━━\u001b[0m \u001b[32m87.5/87.5 kB\u001b[0m \u001b[31m156.8 MB/s\u001b[0m eta \u001b[36m0:00:00\u001b[0m\n",
      "\u001b[?25hRequirement already satisfied: pygments<3.0.0,>=2.13.0 in /environment/miniconda3/lib/python3.8/site-packages (from rich->openmim) (2.14.0)\n",
      "Collecting mdurl~=0.1\n",
      "  Downloading https://pypi.tuna.tsinghua.edu.cn/packages/b3/38/89ba8ad64ae25be8de66a6d463314cf1eb366222074cfda9ee839c56a4b4/mdurl-0.1.2-py3-none-any.whl (10.0 kB)\n",
      "Requirement already satisfied: six>=1.5 in /environment/miniconda3/lib/python3.8/site-packages (from python-dateutil>=2.8.1->pandas->openmim) (1.16.0)\n",
      "Requirement already satisfied: importlib-metadata>=4.4 in /environment/miniconda3/lib/python3.8/site-packages (from markdown->model-index->openmim) (6.0.0)\n",
      "Requirement already satisfied: zipp>=0.5 in /environment/miniconda3/lib/python3.8/site-packages (from importlib-metadata>=4.4->markdown->model-index->openmim) (3.15.0)\n",
      "Installing collected packages: ordered-set, mdurl, markdown-it-py, rich, model-index, openmim\n",
      "Successfully installed markdown-it-py-3.0.0 mdurl-0.1.2 model-index-0.1.11 openmim-0.3.7 ordered-set-4.1.0 rich-13.4.2\n",
      "Looking in indexes: https://pypi.tuna.tsinghua.edu.cn/simple\n",
      "Looking in links: https://download.openmmlab.com/mmcv/dist/cu118/torch2.0.0/index.html\n",
      "Collecting mmcv>=2.0.0\n",
      "  Downloading https://download.openmmlab.com/mmcv/dist/cu118/torch2.0.0/mmcv-2.0.0-cp38-cp38-manylinux1_x86_64.whl (74.4 MB)\n",
      "\u001b[2K     \u001b[90m━━━━━━━━━━━━━━━━━━━━━━━━━━━━━━━━━━━━━━━━\u001b[0m \u001b[32m74.4/74.4 MB\u001b[0m \u001b[31m9.2 MB/s\u001b[0m eta \u001b[36m0:00:00\u001b[0m:00:01\u001b[0m00:01\u001b[0m\n",
      "\u001b[?25hCollecting mmengine>=0.2.0\n",
      "  Downloading https://pypi.tuna.tsinghua.edu.cn/packages/11/f4/714c5fa78885c459a4d75957764367c195c937b56f5325898ea514c5a04e/mmengine-0.7.4-py3-none-any.whl (374 kB)\n",
      "\u001b[2K     \u001b[90m━━━━━━━━━━━━━━━━━━━━━━━━━━━━━━━━━━━━━\u001b[0m \u001b[32m374.3/374.3 kB\u001b[0m \u001b[31m184.7 MB/s\u001b[0m eta \u001b[36m0:00:00\u001b[0m\n",
      "\u001b[?25hRequirement already satisfied: Pillow in /environment/miniconda3/lib/python3.8/site-packages (from mmcv>=2.0.0) (9.3.0)\n",
      "Requirement already satisfied: packaging in /environment/miniconda3/lib/python3.8/site-packages (from mmcv>=2.0.0) (23.0)\n",
      "Requirement already satisfied: pyyaml in /environment/miniconda3/lib/python3.8/site-packages (from mmcv>=2.0.0) (6.0)\n",
      "Requirement already satisfied: numpy in /environment/miniconda3/lib/python3.8/site-packages (from mmcv>=2.0.0) (1.24.1)\n",
      "Collecting addict\n",
      "  Downloading https://pypi.tuna.tsinghua.edu.cn/packages/6a/00/b08f23b7d7e1e14ce01419a467b583edbb93c6cdb8654e54a9cc579cd61f/addict-2.4.0-py3-none-any.whl (3.8 kB)\n",
      "Collecting yapf\n",
      "  Downloading https://pypi.tuna.tsinghua.edu.cn/packages/3f/f8/cdb8667fc19e8c851e6271cde962ad2e7c6b28ea1fde1aeb572963da7da0/yapf-0.40.0-py3-none-any.whl (250 kB)\n",
      "\u001b[2K     \u001b[90m━━━━━━━━━━━━━━━━━━━━━━━━━━━━━━━━━━━━━\u001b[0m \u001b[32m250.3/250.3 kB\u001b[0m \u001b[31m210.6 MB/s\u001b[0m eta \u001b[36m0:00:00\u001b[0m\n",
      "\u001b[?25hCollecting opencv-python>=3\n",
      "  Downloading https://pypi.tuna.tsinghua.edu.cn/packages/29/35/a791b550cdeb4efd8b66e921748f2aff938868a29794489d93575d604a02/opencv_python-4.7.0.72-cp37-abi3-manylinux_2_17_x86_64.manylinux2014_x86_64.whl (61.8 MB)\n",
      "\u001b[2K     \u001b[90m━━━━━━━━━━━━━━━━━━━━━━━━━━━━━━━━━━━━━━━\u001b[0m \u001b[32m61.8/61.8 MB\u001b[0m \u001b[31m217.9 MB/s\u001b[0m eta \u001b[36m0:00:00\u001b[0m00:01\u001b[0m00:01\u001b[0m\n",
      "\u001b[?25hRequirement already satisfied: matplotlib in /environment/miniconda3/lib/python3.8/site-packages (from mmengine>=0.2.0->mmcv>=2.0.0) (3.7.1)\n",
      "Requirement already satisfied: rich in /environment/miniconda3/lib/python3.8/site-packages (from mmengine>=0.2.0->mmcv>=2.0.0) (13.4.2)\n",
      "Requirement already satisfied: termcolor in /environment/miniconda3/lib/python3.8/site-packages (from mmengine>=0.2.0->mmcv>=2.0.0) (2.2.0)\n",
      "Collecting platformdirs>=3.5.1\n",
      "  Downloading https://pypi.tuna.tsinghua.edu.cn/packages/a7/4d/00f9fe4bbb3459da0d6c790b1526e5edebaeff2a80166eabb0a42f9e0a05/platformdirs-3.6.0-py3-none-any.whl (16 kB)\n",
      "Collecting tomli>=2.0.1\n",
      "  Downloading https://pypi.tuna.tsinghua.edu.cn/packages/97/75/10a9ebee3fd790d20926a90a2547f0bf78f371b2f13aa822c759680ca7b9/tomli-2.0.1-py3-none-any.whl (12 kB)\n",
      "Collecting importlib-metadata>=6.6.0\n",
      "  Downloading https://pypi.tuna.tsinghua.edu.cn/packages/30/bb/bf2944b8b88c65b797acc2c6a2cb0fb817f7364debf0675792e034013858/importlib_metadata-6.6.0-py3-none-any.whl (22 kB)\n",
      "Requirement already satisfied: zipp>=0.5 in /environment/miniconda3/lib/python3.8/site-packages (from importlib-metadata>=6.6.0->yapf->mmcv>=2.0.0) (3.15.0)\n",
      "Requirement already satisfied: importlib-resources>=3.2.0 in /environment/miniconda3/lib/python3.8/site-packages (from matplotlib->mmengine>=0.2.0->mmcv>=2.0.0) (5.12.0)\n",
      "Requirement already satisfied: cycler>=0.10 in /environment/miniconda3/lib/python3.8/site-packages (from matplotlib->mmengine>=0.2.0->mmcv>=2.0.0) (0.11.0)\n",
      "Requirement already satisfied: pyparsing>=2.3.1 in /environment/miniconda3/lib/python3.8/site-packages (from matplotlib->mmengine>=0.2.0->mmcv>=2.0.0) (3.0.9)\n",
      "Requirement already satisfied: contourpy>=1.0.1 in /environment/miniconda3/lib/python3.8/site-packages (from matplotlib->mmengine>=0.2.0->mmcv>=2.0.0) (1.0.7)\n",
      "Requirement already satisfied: kiwisolver>=1.0.1 in /environment/miniconda3/lib/python3.8/site-packages (from matplotlib->mmengine>=0.2.0->mmcv>=2.0.0) (1.4.4)\n",
      "Requirement already satisfied: fonttools>=4.22.0 in /environment/miniconda3/lib/python3.8/site-packages (from matplotlib->mmengine>=0.2.0->mmcv>=2.0.0) (4.39.2)\n",
      "Requirement already satisfied: python-dateutil>=2.7 in /environment/miniconda3/lib/python3.8/site-packages (from matplotlib->mmengine>=0.2.0->mmcv>=2.0.0) (2.8.2)\n",
      "Requirement already satisfied: markdown-it-py>=2.2.0 in /environment/miniconda3/lib/python3.8/site-packages (from rich->mmengine>=0.2.0->mmcv>=2.0.0) (3.0.0)\n",
      "Requirement already satisfied: typing-extensions<5.0,>=4.0.0 in /environment/miniconda3/lib/python3.8/site-packages (from rich->mmengine>=0.2.0->mmcv>=2.0.0) (4.5.0)\n",
      "Requirement already satisfied: pygments<3.0.0,>=2.13.0 in /environment/miniconda3/lib/python3.8/site-packages (from rich->mmengine>=0.2.0->mmcv>=2.0.0) (2.14.0)\n",
      "Requirement already satisfied: mdurl~=0.1 in /environment/miniconda3/lib/python3.8/site-packages (from markdown-it-py>=2.2.0->rich->mmengine>=0.2.0->mmcv>=2.0.0) (0.1.2)\n",
      "Requirement already satisfied: six>=1.5 in /environment/miniconda3/lib/python3.8/site-packages (from python-dateutil>=2.7->matplotlib->mmengine>=0.2.0->mmcv>=2.0.0) (1.16.0)\n",
      "Installing collected packages: addict, tomli, platformdirs, opencv-python, importlib-metadata, yapf, mmengine, mmcv\n",
      "  Attempting uninstall: platformdirs\n",
      "    Found existing installation: platformdirs 3.1.1\n",
      "    Uninstalling platformdirs-3.1.1:\n",
      "      Successfully uninstalled platformdirs-3.1.1\n",
      "  Attempting uninstall: importlib-metadata\n",
      "    Found existing installation: importlib-metadata 6.0.0\n",
      "    Uninstalling importlib-metadata-6.0.0:\n",
      "      Successfully uninstalled importlib-metadata-6.0.0\n",
      "\u001b[31mERROR: pip's dependency resolver does not currently take into account all the packages that are installed. This behaviour is the source of the following dependency conflicts.\n",
      "jupyterlab-server 2.20.0 requires requests>=2.28, but you have requests 2.24.0 which is incompatible.\u001b[0m\u001b[31m\n",
      "\u001b[0mSuccessfully installed addict-2.4.0 importlib-metadata-6.6.0 mmcv-2.0.0 mmengine-0.7.4 opencv-python-4.7.0.72 platformdirs-3.6.0 tomli-2.0.1 yapf-0.40.0\n",
      "Looking in indexes: https://pypi.tuna.tsinghua.edu.cn/simple\n",
      "Looking in links: https://download.openmmlab.com/mmcv/dist/cu118/torch2.0.0/index.html\n",
      "Requirement already satisfied: mmengine in /environment/miniconda3/lib/python3.8/site-packages (0.7.4)\n",
      "Requirement already satisfied: numpy in /environment/miniconda3/lib/python3.8/site-packages (from mmengine) (1.24.1)\n",
      "Requirement already satisfied: matplotlib in /environment/miniconda3/lib/python3.8/site-packages (from mmengine) (3.7.1)\n",
      "Requirement already satisfied: opencv-python>=3 in /environment/miniconda3/lib/python3.8/site-packages (from mmengine) (4.7.0.72)\n",
      "Requirement already satisfied: yapf in /environment/miniconda3/lib/python3.8/site-packages (from mmengine) (0.40.0)\n",
      "Requirement already satisfied: addict in /environment/miniconda3/lib/python3.8/site-packages (from mmengine) (2.4.0)\n",
      "Requirement already satisfied: termcolor in /environment/miniconda3/lib/python3.8/site-packages (from mmengine) (2.2.0)\n",
      "Requirement already satisfied: rich in /environment/miniconda3/lib/python3.8/site-packages (from mmengine) (13.4.2)\n",
      "Requirement already satisfied: pyyaml in /environment/miniconda3/lib/python3.8/site-packages (from mmengine) (6.0)\n",
      "Requirement already satisfied: pyparsing>=2.3.1 in /environment/miniconda3/lib/python3.8/site-packages (from matplotlib->mmengine) (3.0.9)\n",
      "Requirement already satisfied: kiwisolver>=1.0.1 in /environment/miniconda3/lib/python3.8/site-packages (from matplotlib->mmengine) (1.4.4)\n",
      "Requirement already satisfied: fonttools>=4.22.0 in /environment/miniconda3/lib/python3.8/site-packages (from matplotlib->mmengine) (4.39.2)\n",
      "Requirement already satisfied: pillow>=6.2.0 in /environment/miniconda3/lib/python3.8/site-packages (from matplotlib->mmengine) (9.3.0)\n",
      "Requirement already satisfied: cycler>=0.10 in /environment/miniconda3/lib/python3.8/site-packages (from matplotlib->mmengine) (0.11.0)\n",
      "Requirement already satisfied: contourpy>=1.0.1 in /environment/miniconda3/lib/python3.8/site-packages (from matplotlib->mmengine) (1.0.7)\n",
      "Requirement already satisfied: python-dateutil>=2.7 in /environment/miniconda3/lib/python3.8/site-packages (from matplotlib->mmengine) (2.8.2)\n",
      "Requirement already satisfied: packaging>=20.0 in /environment/miniconda3/lib/python3.8/site-packages (from matplotlib->mmengine) (23.0)\n",
      "Requirement already satisfied: importlib-resources>=3.2.0 in /environment/miniconda3/lib/python3.8/site-packages (from matplotlib->mmengine) (5.12.0)\n",
      "Requirement already satisfied: markdown-it-py>=2.2.0 in /environment/miniconda3/lib/python3.8/site-packages (from rich->mmengine) (3.0.0)\n",
      "Requirement already satisfied: pygments<3.0.0,>=2.13.0 in /environment/miniconda3/lib/python3.8/site-packages (from rich->mmengine) (2.14.0)\n",
      "Requirement already satisfied: typing-extensions<5.0,>=4.0.0 in /environment/miniconda3/lib/python3.8/site-packages (from rich->mmengine) (4.5.0)\n",
      "Requirement already satisfied: platformdirs>=3.5.1 in /environment/miniconda3/lib/python3.8/site-packages (from yapf->mmengine) (3.6.0)\n",
      "Requirement already satisfied: importlib-metadata>=6.6.0 in /environment/miniconda3/lib/python3.8/site-packages (from yapf->mmengine) (6.6.0)\n",
      "Requirement already satisfied: tomli>=2.0.1 in /environment/miniconda3/lib/python3.8/site-packages (from yapf->mmengine) (2.0.1)\n",
      "Requirement already satisfied: zipp>=0.5 in /environment/miniconda3/lib/python3.8/site-packages (from importlib-metadata>=6.6.0->yapf->mmengine) (3.15.0)\n",
      "Requirement already satisfied: mdurl~=0.1 in /environment/miniconda3/lib/python3.8/site-packages (from markdown-it-py>=2.2.0->rich->mmengine) (0.1.2)\n",
      "Requirement already satisfied: six>=1.5 in /environment/miniconda3/lib/python3.8/site-packages (from python-dateutil>=2.7->matplotlib->mmengine) (1.16.0)\n"
     ]
    }
   ],
   "source": [
    "!pip3 install openmim\n",
    "!mim install 'mmcv>=2.0.0'\n",
    "!mim install 'mmengine'"
   ]
  },
  {
   "cell_type": "code",
   "execution_count": 6,
   "id": "a54996f3-692d-4d62-b705-4a1b523ac5ec",
   "metadata": {},
   "outputs": [
    {
     "data": {
      "text/plain": [
       "'/home/featurize'"
      ]
     },
     "execution_count": 6,
     "metadata": {},
     "output_type": "execute_result"
    }
   ],
   "source": [
    "pwd"
   ]
  },
  {
   "cell_type": "code",
   "execution_count": 7,
   "id": "b9a649bd-a61e-43b2-9912-4779dcd2085b",
   "metadata": {},
   "outputs": [
    {
     "name": "stdout",
     "output_type": "stream",
     "text": [
      "Cloning into 'mmagic'...\n",
      "remote: Enumerating objects: 25648, done.\u001b[K\n",
      "remote: Counting objects: 100% (3612/3612), done.\u001b[K\n",
      "remote: Compressing objects: 100% (1596/1596), done.\u001b[K\n",
      "remote: Total 25648 (delta 2017), reused 3426 (delta 1963), pack-reused 22036\u001b[K\n",
      "Receiving objects: 100% (25648/25648), 21.61 MiB | 698.00 KiB/s, done.\n",
      "Resolving deltas: 100% (17127/17127), done.\n"
     ]
    }
   ],
   "source": [
    "!git clone https://github.com/open-mmlab/mmagic.git # 下载 mmagic 源代码"
   ]
  },
  {
   "cell_type": "code",
   "execution_count": 4,
   "id": "047a3a39-56c5-4b2e-8567-6cffbcd0b223",
   "metadata": {},
   "outputs": [],
   "source": [
    "import os\n",
    "os.chdir('mmagic')"
   ]
  },
  {
   "cell_type": "code",
   "execution_count": 5,
   "id": "e7ad34cc-2bcb-4e68-b66c-2cef82ba501e",
   "metadata": {},
   "outputs": [
    {
     "name": "stdout",
     "output_type": "stream",
     "text": [
      "/home/featurize/mmagic\n"
     ]
    }
   ],
   "source": [
    "!pwd"
   ]
  },
  {
   "cell_type": "code",
   "execution_count": 13,
   "id": "2a0ed1da-dd3d-4a52-9f53-9615165b8e53",
   "metadata": {},
   "outputs": [
    {
     "name": "stdout",
     "output_type": "stream",
     "text": [
      "Looking in indexes: https://pypi.tuna.tsinghua.edu.cn/simple\n",
      "Obtaining file:///home/featurize/mmagic/mmagic\n",
      "\u001b[31mERROR: file:///home/featurize/mmagic/mmagic does not appear to be a Python project: neither 'setup.py' nor 'pyproject.toml' found.\u001b[0m\u001b[31m\n",
      "\u001b[0m"
     ]
    }
   ],
   "source": [
    "!pip3 install -e ."
   ]
  },
  {
   "cell_type": "code",
   "execution_count": 1,
   "id": "d399fa9d-4c60-4913-b85c-c269d7e93425",
   "metadata": {},
   "outputs": [
    {
     "name": "stdout",
     "output_type": "stream",
     "text": [
      "Pytorch 版本 2.0.0+cu118\n",
      "CUDA 是否可用 True\n"
     ]
    }
   ],
   "source": [
    "# 检查 Pytorch\n",
    "import torch, torchvision\n",
    "print('Pytorch 版本', torch.__version__)\n",
    "print('CUDA 是否可用',torch.cuda.is_available())"
   ]
  },
  {
   "cell_type": "code",
   "execution_count": 2,
   "id": "e0675887-f8de-4873-a2bd-9d4910af1bec",
   "metadata": {},
   "outputs": [
    {
     "name": "stdout",
     "output_type": "stream",
     "text": [
      "MMCV版本 2.0.0\n",
      "CUDA版本 11.8\n",
      "编译器版本 GCC 9.3\n"
     ]
    }
   ],
   "source": [
    "# 检查 mmcv\n",
    "import mmcv\n",
    "from mmcv.ops import get_compiling_cuda_version, get_compiler_version\n",
    "print('MMCV版本', mmcv.__version__)\n",
    "print('CUDA版本', get_compiling_cuda_version())\n",
    "print('编译器版本', get_compiler_version())"
   ]
  },
  {
   "cell_type": "code",
   "execution_count": 3,
   "id": "02ff2129-3f78-4cdc-a3a2-794552f4baf5",
   "metadata": {},
   "outputs": [
    {
     "name": "stdout",
     "output_type": "stream",
     "text": [
      "MMagic版本 1.0.2dev0\n"
     ]
    }
   ],
   "source": [
    "# 检查 mmagic\n",
    "import mmagic\n",
    "print('MMagic版本', mmagic.__version__)"
   ]
  },
  {
   "cell_type": "code",
   "execution_count": 6,
   "id": "9262e85a-01c6-40a8-bc41-3abc7d31bf1c",
   "metadata": {},
   "outputs": [
    {
     "name": "stdout",
     "output_type": "stream",
     "text": [
      "Looking in indexes: https://pypi.tuna.tsinghua.edu.cn/simple\n",
      "Requirement already satisfied: opencv-python in /environment/miniconda3/lib/python3.8/site-packages (4.7.0.72)\n",
      "Requirement already satisfied: pillow in /environment/miniconda3/lib/python3.8/site-packages (9.3.0)\n",
      "Requirement already satisfied: matplotlib in /environment/miniconda3/lib/python3.8/site-packages (3.7.1)\n",
      "Collecting seaborn\n",
      "  Downloading https://pypi.tuna.tsinghua.edu.cn/packages/8f/2e/17bbb83fbf102687bb2aa3d808add39da820a7698159302a1a69bb82e01c/seaborn-0.12.2-py3-none-any.whl (293 kB)\n",
      "\u001b[2K     \u001b[90m━━━━━━━━━━━━━━━━━━━━━━━━━━━━━━━━━━━━━\u001b[0m \u001b[32m293.3/293.3 kB\u001b[0m \u001b[31m167.7 MB/s\u001b[0m eta \u001b[36m0:00:00\u001b[0m\n",
      "\u001b[?25hRequirement already satisfied: tqdm in /environment/miniconda3/lib/python3.8/site-packages (4.61.2)\n",
      "Requirement already satisfied: numpy>=1.17.0 in /environment/miniconda3/lib/python3.8/site-packages (from opencv-python) (1.24.1)\n",
      "Requirement already satisfied: contourpy>=1.0.1 in /environment/miniconda3/lib/python3.8/site-packages (from matplotlib) (1.0.7)\n",
      "Requirement already satisfied: pyparsing>=2.3.1 in /environment/miniconda3/lib/python3.8/site-packages (from matplotlib) (3.0.9)\n",
      "Requirement already satisfied: fonttools>=4.22.0 in /environment/miniconda3/lib/python3.8/site-packages (from matplotlib) (4.39.2)\n",
      "Requirement already satisfied: packaging>=20.0 in /environment/miniconda3/lib/python3.8/site-packages (from matplotlib) (23.0)\n",
      "Requirement already satisfied: cycler>=0.10 in /environment/miniconda3/lib/python3.8/site-packages (from matplotlib) (0.11.0)\n",
      "Requirement already satisfied: kiwisolver>=1.0.1 in /environment/miniconda3/lib/python3.8/site-packages (from matplotlib) (1.4.4)\n",
      "Requirement already satisfied: python-dateutil>=2.7 in /environment/miniconda3/lib/python3.8/site-packages (from matplotlib) (2.8.2)\n",
      "Requirement already satisfied: importlib-resources>=3.2.0 in /environment/miniconda3/lib/python3.8/site-packages (from matplotlib) (5.12.0)\n",
      "Requirement already satisfied: pandas>=0.25 in /environment/miniconda3/lib/python3.8/site-packages (from seaborn) (1.5.3)\n",
      "Requirement already satisfied: zipp>=3.1.0 in /environment/miniconda3/lib/python3.8/site-packages (from importlib-resources>=3.2.0->matplotlib) (3.15.0)\n",
      "Requirement already satisfied: pytz>=2020.1 in /environment/miniconda3/lib/python3.8/site-packages (from pandas>=0.25->seaborn) (2022.7.1)\n",
      "Requirement already satisfied: six>=1.5 in /environment/miniconda3/lib/python3.8/site-packages (from python-dateutil>=2.7->matplotlib) (1.16.0)\n",
      "Installing collected packages: seaborn\n",
      "Successfully installed seaborn-0.12.2\n",
      "Looking in indexes: https://pypi.tuna.tsinghua.edu.cn/simple\n",
      "Collecting clip\n",
      "  Downloading https://pypi.tuna.tsinghua.edu.cn/packages/58/dc/12bf8888635ade4de57565dca75909a809d1da6ec341eacd546028a73ab9/clip-0.2.0.tar.gz (5.5 kB)\n",
      "  Preparing metadata (setup.py) ... \u001b[?25ldone\n",
      "\u001b[?25hRequirement already satisfied: transformers in /environment/miniconda3/lib/python3.8/site-packages (4.30.2)\n",
      "Collecting gradio\n",
      "  Downloading https://pypi.tuna.tsinghua.edu.cn/packages/50/70/ed0ba0fb5c3b1cb2e481717ad190056a4c9a0ef2f296b871e10375b2ab83/gradio-3.35.2-py3-none-any.whl (19.7 MB)\n",
      "\u001b[2K     \u001b[90m━━━━━━━━━━━━━━━━━━━━━━━━━━━━━━━━━━━━━━━\u001b[0m \u001b[32m19.7/19.7 MB\u001b[0m \u001b[31m213.0 MB/s\u001b[0m eta \u001b[36m0:00:00\u001b[0ma \u001b[36m0:00:01\u001b[0m\n",
      "\u001b[?25hCollecting httpx[socks]\n",
      "  Downloading https://pypi.tuna.tsinghua.edu.cn/packages/ec/91/e41f64f03d2a13aee7e8c819d82ee3aa7cdc484d18c0ae859742597d5aa0/httpx-0.24.1-py3-none-any.whl (75 kB)\n",
      "\u001b[2K     \u001b[90m━━━━━━━━━━━━━━━━━━━━━━━━━━━━━━━━━━━━━━━\u001b[0m \u001b[32m75.4/75.4 kB\u001b[0m \u001b[31m142.0 MB/s\u001b[0m eta \u001b[36m0:00:00\u001b[0m\n",
      "\u001b[?25hCollecting diffusers==0.14.0\n",
      "  Downloading https://pypi.tuna.tsinghua.edu.cn/packages/eb/b4/5f719d41ebd5dc1c75a992e875cf7a8d402fb4acfe373eb04e4b7d805123/diffusers-0.14.0-py3-none-any.whl (737 kB)\n",
      "\u001b[2K     \u001b[90m━━━━━━━━━━━━━━━━━━━━━━━━━━━━━━━━━━━━━\u001b[0m \u001b[32m737.4/737.4 kB\u001b[0m \u001b[31m238.5 MB/s\u001b[0m eta \u001b[36m0:00:00\u001b[0m\n",
      "\u001b[?25hRequirement already satisfied: huggingface-hub>=0.10.0 in /environment/miniconda3/lib/python3.8/site-packages (from diffusers==0.14.0) (0.15.1)\n",
      "Requirement already satisfied: importlib-metadata in /environment/miniconda3/lib/python3.8/site-packages (from diffusers==0.14.0) (6.6.0)\n",
      "Requirement already satisfied: requests in /environment/miniconda3/lib/python3.8/site-packages (from diffusers==0.14.0) (2.24.0)\n",
      "Requirement already satisfied: Pillow in /environment/miniconda3/lib/python3.8/site-packages (from diffusers==0.14.0) (9.3.0)\n",
      "Requirement already satisfied: regex!=2019.12.17 in /environment/miniconda3/lib/python3.8/site-packages (from diffusers==0.14.0) (2022.10.31)\n",
      "Requirement already satisfied: numpy in /environment/miniconda3/lib/python3.8/site-packages (from diffusers==0.14.0) (1.24.1)\n",
      "Requirement already satisfied: filelock in /environment/miniconda3/lib/python3.8/site-packages (from diffusers==0.14.0) (3.9.0)\n",
      "Requirement already satisfied: pyyaml>=5.1 in /environment/miniconda3/lib/python3.8/site-packages (from transformers) (6.0)\n",
      "Requirement already satisfied: safetensors>=0.3.1 in /environment/miniconda3/lib/python3.8/site-packages (from transformers) (0.3.1)\n",
      "Requirement already satisfied: packaging>=20.0 in /environment/miniconda3/lib/python3.8/site-packages (from transformers) (23.0)\n",
      "Requirement already satisfied: tokenizers!=0.11.3,<0.14,>=0.11.1 in /environment/miniconda3/lib/python3.8/site-packages (from transformers) (0.13.2)\n",
      "Requirement already satisfied: tqdm>=4.27 in /environment/miniconda3/lib/python3.8/site-packages (from transformers) (4.61.2)\n",
      "Collecting pydub\n",
      "  Downloading https://pypi.tuna.tsinghua.edu.cn/packages/a6/53/d78dc063216e62fc55f6b2eebb447f6a4b0a59f55c8406376f76bf959b08/pydub-0.25.1-py2.py3-none-any.whl (32 kB)\n",
      "Requirement already satisfied: markupsafe in /environment/miniconda3/lib/python3.8/site-packages (from gradio) (2.1.2)\n",
      "Collecting uvicorn>=0.14.0\n",
      "  Downloading https://pypi.tuna.tsinghua.edu.cn/packages/ad/bd/d47ee02312640fcf26c7e1c807402d5c5eab468571153a94ec8f7ada0e46/uvicorn-0.22.0-py3-none-any.whl (58 kB)\n",
      "\u001b[2K     \u001b[90m━━━━━━━━━━━━━━━━━━━━━━━━━━━━━━━━━━━━━━━\u001b[0m \u001b[32m58.3/58.3 kB\u001b[0m \u001b[31m122.4 MB/s\u001b[0m eta \u001b[36m0:00:00\u001b[0m\n",
      "\u001b[?25hCollecting fastapi\n",
      "  Downloading https://pypi.tuna.tsinghua.edu.cn/packages/04/af/1749185fe149662b1f0af3bea74ab0620294752366306cd6098fdb52eafa/fastapi-0.97.0-py3-none-any.whl (56 kB)\n",
      "\u001b[2K     \u001b[90m━━━━━━━━━━━━━━━━━━━━━━━━━━━━━━━━━━━━━━━\u001b[0m \u001b[32m57.0/57.0 kB\u001b[0m \u001b[31m117.7 MB/s\u001b[0m eta \u001b[36m0:00:00\u001b[0m\n",
      "\u001b[?25hRequirement already satisfied: aiohttp in /environment/miniconda3/lib/python3.8/site-packages (from gradio) (3.7.4)\n",
      "Collecting pydantic\n",
      "  Downloading https://pypi.tuna.tsinghua.edu.cn/packages/d5/27/29f43b7148eb3d6e5fdd14935e88f03b6b501baddf88fb6913da7f3f7661/pydantic-1.10.9-cp38-cp38-manylinux_2_17_x86_64.manylinux2014_x86_64.whl (3.2 MB)\n",
      "\u001b[2K     \u001b[90m━━━━━━━━━━━━━━━━━━━━━━━━━━━━━━━━━━━━━━━━\u001b[0m \u001b[32m3.2/3.2 MB\u001b[0m \u001b[31m248.1 MB/s\u001b[0m eta \u001b[36m0:00:00\u001b[0m\n",
      "\u001b[?25hRequirement already satisfied: matplotlib in /environment/miniconda3/lib/python3.8/site-packages (from gradio) (3.7.1)\n",
      "Collecting aiofiles\n",
      "  Downloading https://pypi.tuna.tsinghua.edu.cn/packages/a8/76/635aa4f210d46ca105bfedd42d41f649b91d3e58422912726fc5e7965442/aiofiles-23.1.0-py3-none-any.whl (14 kB)\n",
      "Collecting altair>=4.2.0\n",
      "  Downloading https://pypi.tuna.tsinghua.edu.cn/packages/b2/20/5c3b89d6f8d9938325a9330793438389e0dc94c34d921f6da35ec62095f3/altair-5.0.1-py3-none-any.whl (471 kB)\n",
      "\u001b[2K     \u001b[90m━━━━━━━━━━━━━━━━━━━━━━━━━━━━━━━━━━━━━\u001b[0m \u001b[32m471.5/471.5 kB\u001b[0m \u001b[31m193.1 MB/s\u001b[0m eta \u001b[36m0:00:00\u001b[0m\n",
      "\u001b[?25hRequirement already satisfied: markdown-it-py[linkify]>=2.0.0 in /environment/miniconda3/lib/python3.8/site-packages (from gradio) (3.0.0)\n",
      "\u001b[33mWARNING: Retrying (Retry(total=4, connect=None, read=None, redirect=None, status=None)) after connection broken by 'ReadTimeoutError(\"HTTPSConnectionPool(host='pypi.tuna.tsinghua.edu.cn', port=443): Read timed out. (read timeout=15)\")': /simple/gradio-client/\u001b[0m\u001b[33m\n",
      "\u001b[0mCollecting gradio\n",
      "\u001b[31m  ERROR: HTTP error 502 while getting https://pypi.tuna.tsinghua.edu.cn/packages/d6/46/41342e171587326732d7a2283723433ae6ec5110cb51513ae9eacc4354a4/gradio-3.35.1-py3-none-any.whl#sha256=70a9d64f96876f8ffd042cd72a9ba553a1c9bb190cb08695f5025048576bc69f (from https://pypi.tuna.tsinghua.edu.cn/simple/gradio/) (requires-python:>=3.8)\u001b[0m\u001b[31m\n",
      "\u001b[0m\u001b[31mERROR: Could not install requirement gradio from https://pypi.tuna.tsinghua.edu.cn/packages/d6/46/41342e171587326732d7a2283723433ae6ec5110cb51513ae9eacc4354a4/gradio-3.35.1-py3-none-any.whl#sha256=70a9d64f96876f8ffd042cd72a9ba553a1c9bb190cb08695f5025048576bc69f because of HTTP error 502 Server Error: Bad Gateway for url: https://pypi.tuna.tsinghua.edu.cn/packages/d6/46/41342e171587326732d7a2283723433ae6ec5110cb51513ae9eacc4354a4/gradio-3.35.1-py3-none-any.whl for URL https://pypi.tuna.tsinghua.edu.cn/packages/d6/46/41342e171587326732d7a2283723433ae6ec5110cb51513ae9eacc4354a4/gradio-3.35.1-py3-none-any.whl#sha256=70a9d64f96876f8ffd042cd72a9ba553a1c9bb190cb08695f5025048576bc69f (from https://pypi.tuna.tsinghua.edu.cn/simple/gradio/) (requires-python:>=3.8)\u001b[0m\u001b[31m\n",
      "\u001b[0mLooking in indexes: https://pypi.tuna.tsinghua.edu.cn/simple\n",
      "Looking in links: https://download.openmmlab.com/mmcv/dist/cu118/torch2.0.0/index.html\n",
      "\u001b[31mERROR: Could not find a version that satisfies the requirement mmdet>=3.0.0 (from versions: none)\u001b[0m\u001b[31m\n",
      "\u001b[0m\u001b[31mERROR: No matching distribution found for mmdet>=3.0.0\u001b[0m\u001b[31m\n",
      "\u001b[0m"
     ]
    }
   ],
   "source": [
    "!pip install opencv-python pillow matplotlib seaborn tqdm -i https://pypi.tuna.tsinghua.edu.cn/simple\n",
    "!pip install clip transformers gradio 'httpx[socks]' diffusers==0.14.0 -i https://pypi.tuna.tsinghua.edu.cn/simple\n",
    "!mim install 'mmdet>=3.0.0'"
   ]
  },
  {
   "cell_type": "code",
   "execution_count": 7,
   "id": "08b2983f-c8e7-4749-a8f3-b3f749f37f9e",
   "metadata": {},
   "outputs": [
    {
     "name": "stderr",
     "output_type": "stream",
     "text": [
      "The cache for model files in Transformers v4.22.0 has been updated. Migrating your old cache. This is a one-time only operation. You can interrupt this and resume the migration later on by calling `transformers.utils.move_cache()`.\n"
     ]
    },
    {
     "data": {
      "application/json": {
       "ascii": false,
       "bar_format": null,
       "colour": null,
       "elapsed": 0.008517265319824219,
       "initial": 0,
       "n": 0,
       "ncols": null,
       "nrows": null,
       "postfix": null,
       "prefix": "",
       "rate": null,
       "total": 0,
       "unit": "it",
       "unit_divisor": 1000,
       "unit_scale": false
      },
      "application/vnd.jupyter.widget-view+json": {
       "model_id": "cc405130133c4fc8a8487013752bb69f",
       "version_major": 2,
       "version_minor": 0
      },
      "text/plain": [
       "0it [00:00, ?it/s]"
      ]
     },
     "metadata": {},
     "output_type": "display_data"
    },
    {
     "name": "stderr",
     "output_type": "stream",
     "text": [
      "2023-06-18 22:26:37.351792: I tensorflow/core/platform/cpu_feature_guard.cc:193] This TensorFlow binary is optimized with oneAPI Deep Neural Network Library (oneDNN) to use the following CPU instructions in performance-critical operations:  AVX2 FMA\n",
      "To enable them in other operations, rebuild TensorFlow with the appropriate compiler flags.\n",
      "2023-06-18 22:26:40.020005: W tensorflow/compiler/xla/stream_executor/platform/default/dso_loader.cc:64] Could not load dynamic library 'libnvinfer.so.7'; dlerror: libnvinfer.so.7: cannot open shared object file: No such file or directory; LD_LIBRARY_PATH: /environment/miniconda3/lib/python3.8/site-packages/cv2/../../lib64:\n",
      "2023-06-18 22:26:40.020176: W tensorflow/compiler/xla/stream_executor/platform/default/dso_loader.cc:64] Could not load dynamic library 'libnvinfer_plugin.so.7'; dlerror: libnvinfer_plugin.so.7: cannot open shared object file: No such file or directory; LD_LIBRARY_PATH: /environment/miniconda3/lib/python3.8/site-packages/cv2/../../lib64:\n",
      "2023-06-18 22:26:40.020191: W tensorflow/compiler/tf2tensorrt/utils/py_utils.cc:38] TF-TRT Warning: Cannot dlopen some TensorRT libraries. If you would like to use Nvidia GPU with TensorRT, please make sure the missing libraries mentioned above are installed properly.\n"
     ]
    }
   ],
   "source": [
    "import cv2\n",
    "import numpy as np\n",
    "import mmcv\n",
    "from mmengine import Config\n",
    "from PIL import Image\n",
    "\n",
    "from mmagic.registry import MODELS\n",
    "from mmagic.utils import register_all_modules\n",
    "\n",
    "register_all_modules()"
   ]
  },
  {
   "cell_type": "code",
   "execution_count": 10,
   "id": "eec9efe5-9a68-41d7-b271-dbcdadfe03f5",
   "metadata": {},
   "outputs": [
    {
     "name": "stderr",
     "output_type": "stream",
     "text": [
      "Cannot initialize model with low cpu memory usage because `accelerate` was not found in the environment. Defaulting to `low_cpu_mem_usage=False`. It is strongly recommended to install `accelerate` for faster and less memory-intense model loading. You can do so with: \n",
      "```\n",
      "pip install accelerate\n",
      "```\n",
      ".\n"
     ]
    },
    {
     "name": "stdout",
     "output_type": "stream",
     "text": [
      "06/18 22:28:40 - mmengine - \u001b[4m\u001b[97mINFO\u001b[0m - Set model dtype to 'torch.float32'.\n"
     ]
    },
    {
     "name": "stderr",
     "output_type": "stream",
     "text": [
      "Cannot initialize model with low cpu memory usage because `accelerate` was not found in the environment. Defaulting to `low_cpu_mem_usage=False`. It is strongly recommended to install `accelerate` for faster and less memory-intense model loading. You can do so with: \n",
      "```\n",
      "pip install accelerate\n",
      "```\n",
      ".\n"
     ]
    },
    {
     "name": "stdout",
     "output_type": "stream",
     "text": [
      "06/18 22:28:50 - mmengine - \u001b[4m\u001b[97mINFO\u001b[0m - Creating runwayml/stable-diffusion-v1-5 by 'HuggingFace'\n"
     ]
    },
    {
     "name": "stderr",
     "output_type": "stream",
     "text": [
      "/home/featurize/mmagic/mmagic/models/archs/wrapper.py:149: FutureWarning: Accessing config attribute `block_out_channels` directly via 'AutoencoderKL' object attribute is deprecated. Please access 'block_out_channels' over 'AutoencoderKL's config object instead, e.g. 'unet.config.block_out_channels'.\n",
      "  return getattr(self.model, name)\n",
      "Cannot initialize model with low cpu memory usage because `accelerate` was not found in the environment. Defaulting to `low_cpu_mem_usage=False`. It is strongly recommended to install `accelerate` for faster and less memory-intense model loading. You can do so with: \n",
      "```\n",
      "pip install accelerate\n",
      "```\n",
      ".\n"
     ]
    },
    {
     "name": "stdout",
     "output_type": "stream",
     "text": [
      "Do not support Xformers. Please install Xformers first. The program will run without Xformers.\n",
      "06/18 22:28:54 - mmengine - \u001b[4m\u001b[97mINFO\u001b[0m - Set model dtype to 'torch.float32'.\n",
      "Do not support Xformers. Please install Xformers first. The program will run without Xformers.\n"
     ]
    }
   ],
   "source": [
    "## 载入ControlNet模型\n",
    "cfg = Config.fromfile('configs/controlnet/controlnet-canny.py')\n",
    "controlnet = MODELS.build(cfg.model).cuda()"
   ]
  },
  {
   "cell_type": "code",
   "execution_count": 17,
   "id": "ee7ec4d8-7dfe-4464-bafc-b2df5083dbc3",
   "metadata": {},
   "outputs": [
    {
     "data": {
      "text/plain": [
       "True"
      ]
     },
     "execution_count": 17,
     "metadata": {},
     "output_type": "execute_result"
    }
   ],
   "source": [
    "import cv2\n",
    "\n",
    "img_path = '/home/featurize/test.jpg'\n",
    "\n",
    "# 读取图片\n",
    "image = cv2.imread(img_path)\n",
    "\n",
    "# 使用Canny边缘检测\n",
    "edges = cv2.Canny(image, threshold1=30, threshold2=100)\n",
    "\n",
    "# 保存图像\n",
    "cv2.imwrite('/home/featurize//edges.jpg', edges)"
   ]
  },
  {
   "cell_type": "code",
   "execution_count": 20,
   "id": "ce712975-08b9-4aad-bf53-74c95a5c709c",
   "metadata": {},
   "outputs": [],
   "source": [
    "control_img = mmcv.imread('/home/featurize//edges.jpg')\n",
    "control = cv2.Canny(control_img, 100, 200)\n",
    "control = control[:, :, None]\n",
    "control = np.concatenate([control] * 3, axis=2)\n",
    "control = Image.fromarray(control)"
   ]
  },
  {
   "cell_type": "code",
   "execution_count": 22,
   "id": "2354ecde-cb9e-40a7-9a5d-fa505d2f3174",
   "metadata": {},
   "outputs": [
    {
     "data": {
      "image/png": "[encoded data removed]",
      "text/plain": [
       "<PIL.Image.Image image mode=RGB size=1024x1024>"
      ]
     },
     "execution_count": 22,
     "metadata": {},
     "output_type": "execute_result"
    }
   ],
   "source": [
    "control"
   ]
  },
  {
   "cell_type": "code",
   "execution_count": 19,
   "id": "177158b3-e418-414c-9740-bb5eee00cf88",
   "metadata": {},
   "outputs": [],
   "source": [
    "prompt = 'room with black and golden style'"
   ]
  },
  {
   "cell_type": "code",
   "execution_count": 26,
   "id": "f196fc9d-7283-4d99-9ade-7bfebe04431a",
   "metadata": {},
   "outputs": [
    {
     "name": "stderr",
     "output_type": "stream",
     "text": [
      "/home/featurize/mmagic/mmagic/models/archs/wrapper.py:149: FutureWarning: Accessing config attribute `in_channels` directly via 'UNet2DConditionModel' object attribute is deprecated. Please access 'in_channels' over 'UNet2DConditionModel's config object instead, e.g. 'unet.config.in_channels'.\n",
      "  return getattr(self.model, name)\n",
      "100%|██████████| 20/20 [00:04<00:00,  4.48it/s]\n"
     ]
    }
   ],
   "source": [
    "output_dict = controlnet.infer(prompt, control=control)\n",
    "samples = output_dict['samples']\n",
    "for idx, sample in enumerate(samples):\n",
    "    sample.save(f'sample_{idx}.png')\n",
    "controls = output_dict['controls']\n",
    "for idx, control in enumerate(controls):\n",
    "    control.save(f'control_{idx}.png')"
   ]
  },
  {
   "cell_type": "code",
   "execution_count": null,
   "id": "b9657e1e-4b96-4e55-8ab2-2fa701a7ec22",
   "metadata": {},
   "outputs": [],
   "source": []
  }
 ],
 "metadata": {
  "kernelspec": {
   "display_name": "Python 3 (ipykernel)",
   "language": "python",
   "name": "python3"
  },
  "language_info": {
   "codemirror_mode": {
    "name": "ipython",
    "version": 3
   },
   "file_extension": ".py",
   "mimetype": "text/x-python",
   "name": "python",
   "nbconvert_exporter": "python",
   "pygments_lexer": "ipython3",
   "version": "3.8.11"
  }
 },
 "nbformat": 4,
 "nbformat_minor": 5
}
